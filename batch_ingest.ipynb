{
 "cells": [
  {
   "cell_type": "code",
   "execution_count": null,
   "id": "220e2db0",
   "metadata": {},
   "outputs": [],
   "source": [
    "import happybase\n",
    "\n",
    "#create connection\n",
    "connection = happybase.Connection('localhost', port=9090 , autoconnect=False)\n",
    "\n",
    "#open connection to perform operations\n",
    "def open_connection():\n",
    "    connection.open()\n",
    "    \n",
    "#close the opened connection\n",
    "def close_connection():\n",
    "    connection.close()\n",
    "    \n",
    "#list all tables in Hbase\n",
    "def list_tables():\n",
    "    print(\"fetching all table\")\n",
    "    open_connection()\n",
    "    tables = connection.tables()\n",
    "    close_connection()\n",
    "    print(\"all tables fetched\")\n",
    "    return tables  \n",
    "\n",
    "\n",
    "#get the pointer to a table\n",
    "def get_table(name):\n",
    "    open_connection()\n",
    "    table = connection.table(name)\n",
    "    close_connection()\n",
    "    return table\n",
    "\n",
    "def batch_insert_data(filename):\n",
    "    print(\"starting batch insert of yellow_tripdata\")\n",
    "    file = open(filename, \"r\")\n",
    "    table = get_table(filename)\n",
    "    open_connection()\n",
    "    i = 0\n",
    "    with table.batch(batch_size=2) as b:\n",
    "        for line in file:\n",
    "            if i!=0:\n",
    "                temp = line.strip().split(\",\")\n",
    "                # this put() will result in two mutations (two cells)\n",
    "                b.put(temp[7]+\":\"+temp[8], { \"info:VendorID\": temp[0], \"info:tpep_pickup_datetime\": temp[1], \"info:tpep_dropoff_datetime\": temp[2],\"info:passenger_count\": temp[3],\"info:trip_distance\": temp[4],\"info:RatecodeID\": temp[5],\"info:store_and_fwd_flag\": temp[6],\"info:payment_type\": temp[9],\"info:fare_amount\": temp[10],\"info:extra\": temp[11],\"info:mta_tax\": temp[12],\"info:tip_amount\": temp[13],\"info:tolls_amount\": temp[14],\"info:improvement_surcharge\": temp[15],\"info:total_amount\": temp[16],\"info:congestion_surcharge\": temp[17],\"info:airport_fee\": temp[18]})  \n",
    "            i+=1\n",
    "               \n",
    "                          \n",
    "\n",
    "    file.close()\n",
    "    print(\"batch insert done\")\n",
    "    close_connection()\n",
    "    \n",
    "batch_insert_data('yellow_tripdata')  \n"
   ]
  }
 ],
 "metadata": {
  "kernelspec": {
   "display_name": "Python 3 (ipykernel)",
   "language": "python",
   "name": "python3"
  },
  "language_info": {
   "codemirror_mode": {
    "name": "ipython",
    "version": 3
   },
   "file_extension": ".py",
   "mimetype": "text/x-python",
   "name": "python",
   "nbconvert_exporter": "python",
   "pygments_lexer": "ipython3",
   "version": "3.9.12"
  }
 },
 "nbformat": 4,
 "nbformat_minor": 5
}
