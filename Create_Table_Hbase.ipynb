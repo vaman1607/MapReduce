{
 "cells": [
  {
   "cell_type": "code",
   "execution_count": null,
   "id": "0dcede26",
   "metadata": {},
   "outputs": [],
   "source": [
    "#### Create_table.py\n",
    "\n",
    "import happybase\n",
    "#create connection\n",
    "connection = happybase.Connection('localhost', port=9090 , autoconnect=False)\n",
    "\n",
    "#open connection to perform operations\n",
    "\n",
    "def open_connection():\n",
    "    connection.open()\n",
    "\n",
    "#close the opened connection \n",
    "\n",
    "def close_connection():\n",
    "    connection.close()\n",
    "\n",
    "#list all tables in Hbase\n",
    "\n",
    "def list_tables():\n",
    "    print(\"fetching all table\")\n",
    "    open_connection()\n",
    "    tables = connection.tables()\n",
    "    close_connection()\n",
    "    print(\"all tables fetched\")\n",
    "    return tables\n",
    "\n",
    "\n",
    "#create a table by passing name and column family as a parameter\n",
    "\n",
    "def create_table(name,cf):\n",
    "    print(\"creating table \" + name)\n",
    "    tables = list_tables()\n",
    "    if name not in tables:\n",
    "        open_connection()\n",
    "        connection.create_table(name, cf)\n",
    "        close_connection()\n",
    "        print(\"table created\")\n",
    "    else:\n",
    "        print(\"table already present\")\n",
    "\n",
    "        \n",
    "\n",
    "create_table('yellow_tripdata', {'info' : dict() })\n"
   ]
  }
 ],
 "metadata": {
  "kernelspec": {
   "display_name": "Python 3 (ipykernel)",
   "language": "python",
   "name": "python3"
  },
  "language_info": {
   "codemirror_mode": {
    "name": "ipython",
    "version": 3
   },
   "file_extension": ".py",
   "mimetype": "text/x-python",
   "name": "python",
   "nbconvert_exporter": "python",
   "pygments_lexer": "ipython3",
   "version": "3.9.12"
  }
 },
 "nbformat": 4,
 "nbformat_minor": 5
}
